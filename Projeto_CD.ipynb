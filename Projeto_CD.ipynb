{
 "cells": [
  {
   "cell_type": "code",
   "execution_count": 80,
   "metadata": {
    "collapsed": true
   },
   "outputs": [],
   "source": [
    "#Membros: Guilherme Guidi, Guilherme Leite, Leonardo Neves\n",
    "\n",
    "%matplotlib inline\n",
    "import pandas as pd\n",
    "import matplotlib.pyplot as plt\n",
    "from scipy.stats import expon\n",
    "from scipy import stats"
   ]
  },
  {
   "cell_type": "markdown",
   "metadata": {},
   "source": [
    "**Dado o número de mortes de um ataque terrorista, qual é o tipo de arma mais provavel de ter sido ultilizada.**\n",
    "#Regressão Logística"
   ]
  },
  {
   "cell_type": "code",
   "execution_count": 81,
   "metadata": {},
   "outputs": [
    {
     "name": "stderr",
     "output_type": "stream",
     "text": [
      "C:\\Users\\Usuario\\Anaconda3\\lib\\site-packages\\IPython\\core\\interactiveshell.py:2717: DtypeWarning: Columns (4,6,31,33,53,61,62,63,76,79,90,92,94,96,114,115,121) have mixed types. Specify dtype option on import or set low_memory=False.\n",
      "  interactivity=interactivity, compiler=compiler, result=result)\n"
     ]
    },
    {
     "data": {
      "text/plain": [
       "array(['eventid', 'iyear', 'imonth', 'iday', 'approxdate', 'extended',\n",
       "       'resolution', 'country', 'country_txt', 'region', 'region_txt',\n",
       "       'provstate', 'city', 'latitude', 'longitude', 'specificity',\n",
       "       'vicinity', 'location', 'summary', 'crit1', 'crit2', 'crit3',\n",
       "       'doubtterr', 'alternative', 'alternative_txt', 'multiple',\n",
       "       'success', 'suicide', 'attacktype1', 'attacktype1_txt',\n",
       "       'attacktype2', 'attacktype2_txt', 'attacktype3', 'attacktype3_txt',\n",
       "       'targtype1', 'targtype1_txt', 'targsubtype1', 'targsubtype1_txt',\n",
       "       'corp1', 'target1', 'natlty1', 'natlty1_txt', 'targtype2',\n",
       "       'targtype2_txt', 'targsubtype2', 'targsubtype2_txt', 'corp2',\n",
       "       'target2', 'natlty2', 'natlty2_txt', 'targtype3', 'targtype3_txt',\n",
       "       'targsubtype3', 'targsubtype3_txt', 'corp3', 'target3', 'natlty3',\n",
       "       'natlty3_txt', 'gname', 'gsubname', 'gname2', 'gsubname2', 'gname3',\n",
       "       'gsubname3', 'motive', 'guncertain1', 'guncertain2', 'guncertain3',\n",
       "       'individual', 'nperps', 'nperpcap', 'claimed', 'claimmode',\n",
       "       'claimmode_txt', 'claim2', 'claimmode2', 'claimmode2_txt', 'claim3',\n",
       "       'claimmode3', 'claimmode3_txt', 'compclaim', 'weaptype1',\n",
       "       'weaptype1_txt', 'weapsubtype1', 'weapsubtype1_txt', 'weaptype2',\n",
       "       'weaptype2_txt', 'weapsubtype2', 'weapsubtype2_txt', 'weaptype3',\n",
       "       'weaptype3_txt', 'weapsubtype3', 'weapsubtype3_txt', 'weaptype4',\n",
       "       'weaptype4_txt', 'weapsubtype4', 'weapsubtype4_txt', 'weapdetail',\n",
       "       'nkill', 'nkillus', 'nkillter', 'nwound', 'nwoundus', 'nwoundte',\n",
       "       'property', 'propextent', 'propextent_txt', 'propvalue',\n",
       "       'propcomment', 'ishostkid', 'nhostkid', 'nhostkidus', 'nhours',\n",
       "       'ndays', 'divert', 'kidhijcountry', 'ransom', 'ransomamt',\n",
       "       'ransomamtus', 'ransompaid', 'ransompaidus', 'ransomnote',\n",
       "       'hostkidoutcome', 'hostkidoutcome_txt', 'nreleased', 'addnotes',\n",
       "       'scite1', 'scite2', 'scite3', 'dbsource', 'INT_LOG', 'INT_IDEO',\n",
       "       'INT_MISC', 'INT_ANY', 'related'], dtype=object)"
      ]
     },
     "execution_count": 81,
     "metadata": {},
     "output_type": "execute_result"
    }
   ],
   "source": [
    "\n",
    "data = pd.read_csv('globalterrorismdb_0617dist.csv', encoding='latin1')\n",
    "col = data.columns.values #Conteudo de cada coluna\n",
    "col"
   ]
  },
  {
   "cell_type": "code",
   "execution_count": 82,
   "metadata": {},
   "outputs": [],
   "source": [
    "df=data[['weaptype1','nkill','nwound']]\n",
    "\n",
    "#for linha in range(1+len(df)):\n",
    "   # print(nunndf.nkill[linha])\n",
    "   # if nunndf.nkill[linha] == 0:\n",
    "     #   if nunndf.nwound[linha]==0:\n",
    "      #      df.drop([linha])\n"
   ]
  },
  {
   "cell_type": "code",
   "execution_count": 83,
   "metadata": {},
   "outputs": [
    {
     "name": "stdout",
     "output_type": "stream",
     "text": [
      "0    13\n",
      "Name: weaptype1, dtype: int64\n"
     ]
    }
   ],
   "source": [
    "nndf = df[pd.notnull(df.weaptype1)&pd.notnull(df.nkill)&pd.notnull(df.nwound)]#Tira os \"NaN\" do df\n",
    "nndf.isnull().sum()\n",
    "print(nndf.weaptype1[:1])"
   ]
  },
  {
   "cell_type": "code",
   "execution_count": 84,
   "metadata": {},
   "outputs": [
    {
     "name": "stdout",
     "output_type": "stream",
     "text": [
      "len: 5000\n",
      "        weaptype1  nkill  nwound\n",
      "25991           6   44.0    90.0\n",
      "150914          8    0.0     0.0\n",
      "14623           6    4.0     4.0\n",
      "25233           5    0.0     0.0\n",
      "12821           5   18.0    10.0\n",
      "75342           5    4.0     9.0\n",
      "79908           5   13.0     0.0\n",
      "40619           6    0.0     0.0\n",
      "35952           5    1.0     0.0\n",
      "67402           8    0.0     0.0\n",
      "63778           6    0.0     0.0\n",
      "121054          5    1.0     0.0\n",
      "22046           6    0.0     0.0\n",
      "27579           6    0.0     0.0\n",
      "44933           6    0.0     0.0\n",
      "61862           8    0.0     0.0\n",
      "48950           6    9.0    13.0\n",
      "74225           6    0.0     0.0\n",
      "140206          6    0.0     2.0\n",
      "115485          5    1.0     0.0\n",
      "92135           5    1.0     0.0\n",
      "159540          6    0.0     0.0\n",
      "20256           6    0.0     0.0\n",
      "101488          9    4.0     0.0\n",
      "106690          6    0.0     1.0\n",
      "43404           8    0.0     0.0\n",
      "61407           6    3.0     0.0\n",
      "35830           6    0.0     2.0\n",
      "82351           6    0.0     3.0\n",
      "37714           5    1.0     0.0\n",
      "...           ...    ...     ...\n",
      "127420          5    1.0     0.0\n",
      "80489           5    1.0     0.0\n",
      "31121           5    1.0     0.0\n",
      "27159           6    0.0     0.0\n",
      "9856            5    1.0     0.0\n",
      "106572          6    0.0     3.0\n",
      "96860           5    2.0     1.0\n",
      "55910           5    6.0     0.0\n",
      "43071           5    1.0     0.0\n",
      "31446           5   15.0     0.0\n",
      "48290           5    0.0     1.0\n",
      "64299           6    0.0     3.0\n",
      "63488           5    2.0     0.0\n",
      "101296          5    1.0     0.0\n",
      "115510          6    0.0     0.0\n",
      "137644          9    1.0     0.0\n",
      "109585          5    1.0     3.0\n",
      "9792            5    0.0     0.0\n",
      "33140           5    7.0     0.0\n",
      "16653           6    0.0     8.0\n",
      "20891           5    1.0     0.0\n",
      "90145           6    0.0     2.0\n",
      "40921           6    0.0     0.0\n",
      "58676           5    1.0     0.0\n",
      "20478           6    0.0     6.0\n",
      "99107           6    0.0     0.0\n",
      "127724          5    1.0     0.0\n",
      "33483           8    0.0     0.0\n",
      "142517          8    0.0     0.0\n",
      "40880           5    1.0     0.0\n",
      "\n",
      "[5000 rows x 3 columns]\n"
     ]
    }
   ],
   "source": [
    "nunndf = nndf[nndf.weaptype1 != 13] #tira os \"Unknown\" do df\n",
    "#nunndf = nunndf[nndf.nkill != 0]\n",
    "\n",
    "dfTr = nunndf.sample(5000)\n",
    "dfTe = nunndf.sample(100)\n",
    "print(\"len:\",len(dfTr))\n",
    "\n",
    "print(dfTr)\n"
   ]
  },
  {
   "cell_type": "code",
   "execution_count": 85,
   "metadata": {},
   "outputs": [],
   "source": [
    "#nunndfH = [\"weaptype1\", \"nkill\",\"nwound\"]\n",
    "#X, test_x, Y, test_y = train_test_split(dfTr[dfTr[:-1]],\n",
    "                                                  #      dfTr[dfTr[-1]], train_size=0.9)"
   ]
  },
  {
   "cell_type": "code",
   "execution_count": 86,
   "metadata": {},
   "outputs": [
    {
     "name": "stderr",
     "output_type": "stream",
     "text": [
      "C:\\Users\\Usuario\\Anaconda3\\lib\\site-packages\\sklearn\\utils\\validation.py:526: DataConversionWarning: A column-vector y was passed when a 1d array was expected. Please change the shape of y to (n_samples, ), for example using ravel().\n",
      "  y = column_or_1d(y, warn=True)\n"
     ]
    },
    {
     "name": "stdout",
     "output_type": "stream",
     "text": [
      "Logistic regression Train Accuracy ::  0.5674\n",
      "Logistic regression Test Accuracy ::  0.58\n",
      "Multinomial Logistic regression Train Accuracy ::  0.567\n",
      "Multinomial Logistic regression Test Accuracy ::  0.58\n"
     ]
    }
   ],
   "source": [
    "import pandas as pd\n",
    "import numpy as np\n",
    "from sklearn import linear_model\n",
    "from sklearn import metrics\n",
    "from sklearn.cross_validation import train_test_split\n",
    "from numpy import *\n",
    "\n",
    "\n",
    "Z = dfTr['nwound']\n",
    "Y = dfTr['weaptype1']\n",
    "X = dfTr['nkill']\n",
    "Z=Z.values.reshape((len(Z),1))\n",
    "X=X.values.reshape((len(X),1))\n",
    "Y=Y.values.reshape((len(Y),1))\n",
    "\n",
    "\n",
    "TY = dfTe['weaptype1']\n",
    "TX = dfTe['nkill']\n",
    "TX=TX.values.reshape((len(TX),1))\n",
    "TY=TY.values.reshape((len(TY),1))\n",
    "\n",
    "mul_lr = linear_model.LogisticRegression(multi_class='multinomial', solver='newton-cg').fit(X,Y)\n",
    "lr = linear_model.LogisticRegression()\n",
    "lr.fit(X, Y)\n",
    "\n",
    "\n",
    "print (\"Logistic regression Train Accuracy :: \", metrics.accuracy_score(Y, lr.predict(X)))\n",
    "print (\"Logistic regression Test Accuracy :: \", metrics.accuracy_score(TY, lr.predict(TX)))\n",
    "\n",
    "print (\"Multinomial Logistic regression Train Accuracy :: \", metrics.accuracy_score(Y, mul_lr.predict(X)))\n",
    "print (\"Multinomial Logistic regression Test Accuracy :: \", metrics.accuracy_score(TY, mul_lr.predict(TX)))"
   ]
  },
  {
   "cell_type": "code",
   "execution_count": null,
   "metadata": {},
   "outputs": [],
   "source": []
  },
  {
   "cell_type": "code",
   "execution_count": null,
   "metadata": {
    "collapsed": true
   },
   "outputs": [],
   "source": []
  },
  {
   "cell_type": "code",
   "execution_count": null,
   "metadata": {
    "collapsed": true
   },
   "outputs": [],
   "source": [
    "print (\"Logistic regression Train Accuracy :: \", metrics.accuracy_score(train_y, lr.predict(train_x)))\n",
    "print (\"Logistic regression Test Accuracy :: \", metrics.accuracy_score(test_y, lr.predict(test_x)))\n",
    "\n",
    "print (\"Multinomial Logistic regression Train Accuracy :: \", metrics.accuracy_score(train_y, mul_lr.predict(train_x)))\n",
    "print (\"Multinomial Logistic regression Test Accuracy :: \", metrics.accuracy_score(test_y, mul_lr.predict(test_x)))"
   ]
  },
  {
   "cell_type": "code",
   "execution_count": null,
   "metadata": {
    "collapsed": true
   },
   "outputs": [],
   "source": []
  }
 ],
 "metadata": {
  "kernelspec": {
   "display_name": "Python 3",
   "language": "python",
   "name": "python3"
  },
  "language_info": {
   "codemirror_mode": {
    "name": "ipython",
    "version": 3
   },
   "file_extension": ".py",
   "mimetype": "text/x-python",
   "name": "python",
   "nbconvert_exporter": "python",
   "pygments_lexer": "ipython3",
   "version": "3.6.0"
  }
 },
 "nbformat": 4,
 "nbformat_minor": 2
}
