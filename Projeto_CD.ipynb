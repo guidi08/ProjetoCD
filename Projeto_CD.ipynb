{
 "cells": [
  {
   "cell_type": "markdown",
   "metadata": {},
   "source": [
    "**Membros: Guilherme Guidi, Guilherme Leite, Leonardo Neves**\n",
    "\n"
   ]
  },
  {
   "cell_type": "markdown",
   "metadata": {},
   "source": [
    "**Dado o número de mortes de um ataque terrorista, qual é o tipo de arma mais provavel de ter sido ultilizada.**"
   ]
  },
  {
   "cell_type": "markdown",
   "metadata": {},
   "source": [
    "Logo após ataques terroristas, é muito difícil saber o número de vítimas e a arma utilizada para se cometer o ato, assim deixando muitos agentes da lei e repórteres às escuras.\n",
    "\n",
    "Iremos usar a regressão logística para determinar qual é o tipo de arma mais provável de ter sido utilizada ,dado o número de mortes de um ataque terrorista usando um database com mais de 170 mil atentados desde 1970. A regressão logística é uma técnica estatística que busca fazer um modelo de predições, dado um conjunto de observações. A regressão logística diferencia-se da regressão linear pelo fato de uma das variáveis ser categórica.\n"
    "\n",
    "O dataset pode ser baixado tanto do gtl lfs quanto do link: https://www.kaggle.com/START-UMD/gtd/data"
   ]
  },
  {
   "cell_type": "code",
   "execution_count": 131,
   "metadata": {
    "collapsed": true
   },
   "outputs": [],
   "source": [
    "import pandas as pd\n",
    "import matplotlib.pyplot as plt\n",
    "from scipy.stats import expon\n",
    "from scipy import stats\n",
    "import numpy as np\n",
    "from sklearn import linear_model\n",
    "from sklearn import metrics\n",
    "from sklearn.cross_validation import train_test_split\n",
    "from numpy import *\n",
    "import seaborn as sns"
   ]
  },
  {
   "cell_type": "code",
   "execution_count": 132,
   "metadata": {},
   "outputs": [
    {
     "name": "stderr",
     "output_type": "stream",
     "text": [
      "C:\\Users\\Usuario\\Anaconda3\\lib\\site-packages\\IPython\\core\\interactiveshell.py:2717: DtypeWarning: Columns (4,6,31,33,53,61,62,63,76,79,90,92,94,96,114,115,121) have mixed types. Specify dtype option on import or set low_memory=False.\n",
      "  interactivity=interactivity, compiler=compiler, result=result)\n"
     ]
    },
    {
     "data": {
      "text/plain": [
       "array(['eventid', 'iyear', 'imonth', 'iday', 'approxdate', 'extended',\n",
       "       'resolution', 'country', 'country_txt', 'region', 'region_txt',\n",
       "       'provstate', 'city', 'latitude', 'longitude', 'specificity',\n",
       "       'vicinity', 'location', 'summary', 'crit1', 'crit2', 'crit3',\n",
       "       'doubtterr', 'alternative', 'alternative_txt', 'multiple',\n",
       "       'success', 'suicide', 'attacktype1', 'attacktype1_txt',\n",
       "       'attacktype2', 'attacktype2_txt', 'attacktype3', 'attacktype3_txt',\n",
       "       'targtype1', 'targtype1_txt', 'targsubtype1', 'targsubtype1_txt',\n",
       "       'corp1', 'target1', 'natlty1', 'natlty1_txt', 'targtype2',\n",
       "       'targtype2_txt', 'targsubtype2', 'targsubtype2_txt', 'corp2',\n",
       "       'target2', 'natlty2', 'natlty2_txt', 'targtype3', 'targtype3_txt',\n",
       "       'targsubtype3', 'targsubtype3_txt', 'corp3', 'target3', 'natlty3',\n",
       "       'natlty3_txt', 'gname', 'gsubname', 'gname2', 'gsubname2', 'gname3',\n",
       "       'gsubname3', 'motive', 'guncertain1', 'guncertain2', 'guncertain3',\n",
       "       'individual', 'nperps', 'nperpcap', 'claimed', 'claimmode',\n",
       "       'claimmode_txt', 'claim2', 'claimmode2', 'claimmode2_txt', 'claim3',\n",
       "       'claimmode3', 'claimmode3_txt', 'compclaim', 'weaptype1',\n",
       "       'weaptype1_txt', 'weapsubtype1', 'weapsubtype1_txt', 'weaptype2',\n",
       "       'weaptype2_txt', 'weapsubtype2', 'weapsubtype2_txt', 'weaptype3',\n",
       "       'weaptype3_txt', 'weapsubtype3', 'weapsubtype3_txt', 'weaptype4',\n",
       "       'weaptype4_txt', 'weapsubtype4', 'weapsubtype4_txt', 'weapdetail',\n",
       "       'nkill', 'nkillus', 'nkillter', 'nwound', 'nwoundus', 'nwoundte',\n",
       "       'property', 'propextent', 'propextent_txt', 'propvalue',\n",
       "       'propcomment', 'ishostkid', 'nhostkid', 'nhostkidus', 'nhours',\n",
       "       'ndays', 'divert', 'kidhijcountry', 'ransom', 'ransomamt',\n",
       "       'ransomamtus', 'ransompaid', 'ransompaidus', 'ransomnote',\n",
       "       'hostkidoutcome', 'hostkidoutcome_txt', 'nreleased', 'addnotes',\n",
       "       'scite1', 'scite2', 'scite3', 'dbsource', 'INT_LOG', 'INT_IDEO',\n",
       "       'INT_MISC', 'INT_ANY', 'related'], dtype=object)"
      ]
     },
     "execution_count": 132,
     "metadata": {},
     "output_type": "execute_result"
    }
   ],
   "source": [
    "data = pd.read_csv('globalterrorismdb_0617dist.csv', encoding='latin1')\n",
    "col = data.columns.values #Conteudo de cada coluna\n",
    "col\n"
   ]
  },
  {
   "cell_type": "code",
   "execution_count": 133,
   "metadata": {},
   "outputs": [
    {
     "data": {
      "text/plain": [
       "count                        170350\n",
       "unique                           12\n",
       "top       Explosives/Bombs/Dynamite\n",
       "freq                          86704\n",
       "Name: weaptype1_txt, dtype: object"
      ]
     },
     "execution_count": 133,
     "metadata": {},
     "output_type": "execute_result"
    }
   ],
   "source": [
    "df=data[['nkill','weaptype1','weaptype1_txt','nwound']]\n",
    "\n",
    "df[\"weaptype1_txt\"].describe()"
   ]
  },
  {
   "cell_type": "code",
   "execution_count": 134,
   "metadata": {},
   "outputs": [
    {
     "data": {
      "text/plain": [
       "nkill            0\n",
       "weaptype1        0\n",
       "weaptype1_txt    0\n",
       "nwound           0\n",
       "dtype: int64"
      ]
     },
     "execution_count": 134,
     "metadata": {},
     "output_type": "execute_result"
    }
   ],
   "source": [
    "nndf = df[pd.notnull(df.weaptype1)&pd.notnull(df.nkill)&pd.notnull(df.nwound)]#Tira os \"NaN\" do df\n",
    "nndf.isnull().sum()"
   ]
  },
  {
   "cell_type": "code",
   "execution_count": 135,
   "metadata": {
    "collapsed": true
   },
   "outputs": [],
   "source": [
    "nunndf = nndf[nndf.weaptype1 != 13] #tira as armas \"Unknown\" do df\n",
    "\n",
    "dfTr = nunndf.sample(5000) #separa as linhas que serao usadas para o treinamento\n",
    "dfTe = nunndf.sample(100) #separa as linhas que serao usadas para o teste"
   ]
  },
  {
   "cell_type": "code",
   "execution_count": 136,
   "metadata": {},
   "outputs": [
    {
     "data": {
      "image/png": "iVBORw0KGgoAAAANSUhEUgAABacAAAJMCAYAAADuXRrGAAAABHNCSVQICAgIfAhkiAAAAAlwSFlz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\nIYR45v4POBVjgWDymfAAAAAASUVORK5CYII=\n",
      "text/plain": [
       "<matplotlib.figure.Figure at 0x205168b5f98>"
      ]
     },
     "metadata": {},
     "output_type": "display_data"
    }
   ],
   "source": [
    "sns.set(style=\"whitegrid\", color_codes=True)\n",
    "a4_dims = (25, 10)\n",
    "fig, ax = plt.subplots(figsize=a4_dims)\n",
    "sns.set_context(\"talk\")\n",
    "sns.plt.ylim(0, 130)# Esse intervalo contem a grande maioria dos dados, o limite foi colocado para uma mulhor compreesão da\n",
    "                    # distribuição\n",
    "\n",
    "sns.stripplot(x=\"weaptype1_txt\", y=\"nkill\", data=dfTr, jitter=True);\n",
    "plt.show()\n"
   ]
  },
  {
   "cell_type": "code",
   "execution_count": 141,
   "metadata": {},
   "outputs": [
    {
     "name": "stderr",
     "output_type": "stream",
     "text": [
      "C:\\Users\\Usuario\\Anaconda3\\lib\\site-packages\\sklearn\\utils\\validation.py:526: DataConversionWarning: A column-vector y was passed when a 1d array was expected. Please change the shape of y to (n_samples, ), for example using ravel().\n",
      "  y = column_or_1d(y, warn=True)\n"
     ]
    },
    {
     "name": "stdout",
     "output_type": "stream",
     "text": [
      "Regressao Logistica Multinomial Precisao do treinamento :Preve a arma:  0.5592\n",
      "Regressao Logistica Multinomial Precisao do teste :Preve a arma:  0.6\n"
     ]
    }
   ],
   "source": [
    "#Colunas de treinamento\n",
    "Y = dfTr['weaptype1']\n",
    "X = dfTr['nkill']\n",
    "X=X.values.reshape((len(X),1))\n",
    "Y=Y.values.reshape((len(Y),1))\n",
    "\n",
    "#Colunas de testa\n",
    "TY = dfTe['weaptype1']\n",
    "TX = dfTe['nkill']\n",
    "TX=TX.values.reshape((len(TX),1))\n",
    "TY=TY.values.reshape((len(TY),1))\n",
    "\n",
    "mul_lr = linear_model.LogisticRegression(multi_class='multinomial', solver='newton-cg').fit(X,Y) #função da Regrassao Logistica\n",
    "\n",
    "print (\"Regressao Logistica Multinomial Precisao do treinamento :Preve a arma: \", metrics.accuracy_score(Y, mul_lr.predict(X)))\n",
    "print (\"Regressao Logistica Multinomial Precisao do teste :Preve a arma: \", metrics.accuracy_score(TY, mul_lr.predict(TX)))"
   ]
  },
  {
   "cell_type": "code",
   "execution_count": 140,
   "metadata": {},
   "outputs": [
    {
     "name": "stderr",
     "output_type": "stream",
     "text": [
      "C:\\Users\\Usuario\\Anaconda3\\lib\\site-packages\\sklearn\\utils\\validation.py:526: DataConversionWarning: A column-vector y was passed when a 1d array was expected. Please change the shape of y to (n_samples, ), for example using ravel().\n",
      "  y = column_or_1d(y, warn=True)\n"
     ]
    },
    {
     "name": "stdout",
     "output_type": "stream",
     "text": [
      "Regressao Logistica Multinomial Precisao do treinamento : Preve as mortes:  0.541\n",
      "Regressao Logistica Multinomial Precisao do teste :Preve as mortes:  0.51\n"
     ]
    }
   ],
   "source": [
    "mul_lrw = linear_model.LogisticRegression(multi_class='multinomial', solver='newton-cg').fit(Y,X) #função da Regrassao Logistica\n",
    "\n",
    "print (\"Regressao Logistica Multinomial Precisao do treinamento : Preve as mortes: \", metrics.accuracy_score(X, mul_lrw.predict(Y)))\n",
    "print (\"Regressao Logistica Multinomial Precisao do teste :Preve as mortes: \", metrics.accuracy_score(TX, mul_lrw.predict(TY)))"
   ]
  },
  {
   "cell_type": "code",
   "execution_count": 139,
   "metadata": {},
   "outputs": [
    {
     "name": "stdout",
     "output_type": "stream",
     "text": [
      "numero de mortos: 43\n",
      "Tipo de arma no.:  [5]\n"
     ]
    },
    {
     "data": {
      "text/html": [
       "<div>\n",
       "<style>\n",
       "    .dataframe thead tr:only-child th {\n",
       "        text-align: right;\n",
       "    }\n",
       "\n",
       "    .dataframe thead th {\n",
       "        text-align: left;\n",
       "    }\n",
       "\n",
       "    .dataframe tbody tr th {\n",
       "        vertical-align: top;\n",
       "    }\n",
       "</style>\n",
       "<table border=\"1\" class=\"dataframe\">\n",
       "  <thead>\n",
       "    <tr style=\"text-align: right;\">\n",
       "      <th></th>\n",
       "      <th>nkill</th>\n",
       "      <th>weaptype1</th>\n",
       "      <th>weaptype1_txt</th>\n",
       "      <th>nwound</th>\n",
       "    </tr>\n",
       "  </thead>\n",
       "  <tbody>\n",
       "    <tr>\n",
       "      <th>138686</th>\n",
       "      <td>0.0</td>\n",
       "      <td>5</td>\n",
       "      <td>Firearms</td>\n",
       "      <td>0.0</td>\n",
       "    </tr>\n",
       "    <tr>\n",
       "      <th>128943</th>\n",
       "      <td>0.0</td>\n",
       "      <td>5</td>\n",
       "      <td>Firearms</td>\n",
       "      <td>1.0</td>\n",
       "    </tr>\n",
       "    <tr>\n",
       "      <th>96494</th>\n",
       "      <td>1.0</td>\n",
       "      <td>5</td>\n",
       "      <td>Firearms</td>\n",
       "      <td>0.0</td>\n",
       "    </tr>\n",
       "    <tr>\n",
       "      <th>56277</th>\n",
       "      <td>6.0</td>\n",
       "      <td>5</td>\n",
       "      <td>Firearms</td>\n",
       "      <td>0.0</td>\n",
       "    </tr>\n",
       "    <tr>\n",
       "      <th>90451</th>\n",
       "      <td>0.0</td>\n",
       "      <td>5</td>\n",
       "      <td>Firearms</td>\n",
       "      <td>1.0</td>\n",
       "    </tr>\n",
       "  </tbody>\n",
       "</table>\n",
       "</div>"
      ],
      "text/plain": [
       "        nkill  weaptype1 weaptype1_txt  nwound\n",
       "138686    0.0          5      Firearms     0.0\n",
       "128943    0.0          5      Firearms     1.0\n",
       "96494     1.0          5      Firearms     0.0\n",
       "56277     6.0          5      Firearms     0.0\n",
       "90451     0.0          5      Firearms     1.0"
      ]
     },
     "execution_count": 139,
     "metadata": {},
     "output_type": "execute_result"
    }
   ],
   "source": [
    "inputW=int(input(\"numero de mortos: \"))\n",
    "x = mul_lr.predict(inputW)\n",
    "print(\"Tipo de arma no.: \",x)\n",
    "tp = dfTr.loc[dfTr['weaptype1'] == x[0]]\n",
    "tp.head()"
   ]
  },
  {
   "cell_type": "markdown",
   "metadata": {},
   "source": [
    "As previsões geradas pela regressão logística podem ser consideradas relativamente precisas. Dado que o índice de acerto do treinamento foi por volta de 55% e o teste 52% em ambos os casos, assim, considerando também as diversas variáveis que acontecem entre cada atentado terrorista a outro, como; região, segurança do local, treinamento dos terroristas, treinamento dos civis, etc...\n",
    "\n",
    "\n",
    "Dessa forma podemos aceitar  a *H0*, que o número de mortes de um ataque terrorista, tem relação com o tipo de arma utilizada, e portanto também  aceitar as predições de qual arma foi usada em um ataque dado o número de mortes e dada a arma prever as mortes.\n",
    "\n",
    "\n",
    "O resultado obtido pode ser tanto usado para prever a arma usada em um atentado quanto o número de vítimas,  "
   ]
  }
 ],
 "metadata": {
  "kernelspec": {
   "display_name": "Python 3",
   "language": "python",
   "name": "python3"
  },
  "language_info": {
   "codemirror_mode": {
    "name": "ipython",
    "version": 3
   },
   "file_extension": ".py",
   "mimetype": "text/x-python",
   "name": "python",
   "nbconvert_exporter": "python",
   "pygments_lexer": "ipython3",
   "version": "3.6.0"
  }
 },
 "nbformat": 4,
 "nbformat_minor": 2
}
